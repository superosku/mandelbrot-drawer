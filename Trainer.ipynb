{
 "cells": [
  {
   "cell_type": "code",
   "execution_count": null,
   "id": "0ef9947e-6dbe-402a-b2e6-218272c122c4",
   "metadata": {},
   "outputs": [],
   "source": [
    "# !pip install opencv-python"
   ]
  },
  {
   "cell_type": "code",
   "execution_count": null,
   "id": "4114da0e-ec9f-454a-a0b4-bc697d9ec9fc",
   "metadata": {},
   "outputs": [],
   "source": [
    "import keras\n",
    "import os\n",
    "import imageio\n",
    "import matplotlib.pyplot as plt\n",
    "import numpy as np\n",
    "import random\n",
    "import cv2\n",
    "import tensorflow as tf"
   ]
  },
  {
   "cell_type": "code",
   "execution_count": null,
   "id": "d650a2c1-a6cf-4d19-98d8-f598174a1bb7",
   "metadata": {},
   "outputs": [],
   "source": []
  },
  {
   "cell_type": "code",
   "execution_count": null,
   "id": "12415623-5814-42b4-830f-360a1cc5047e",
   "metadata": {},
   "outputs": [],
   "source": [
    "input_res = 32\n",
    "output_res = input_res * 2\n"
   ]
  },
  {
   "cell_type": "markdown",
   "id": "3bba8cc8-8326-4266-9684-bd18d152248d",
   "metadata": {},
   "source": [
    "# Models"
   ]
  },
  {
   "cell_type": "code",
   "execution_count": null,
   "id": "00a9fe10-02cc-423a-85f1-f90decfed956",
   "metadata": {},
   "outputs": [],
   "source": [
    "generator_inputs = keras.Input(shape=(input_res, input_res, 1))\n",
    "\n",
    "x = keras.layers.Conv2D(32, 5, padding='same', activation='relu')(generator_inputs)\n",
    "x = keras.layers.Dropout(0.2)(x)\n",
    "x = keras.layers.Conv2D(32, 3, padding='same', activation='relu')(x)\n",
    "x = keras.layers.Dropout(0.2)(x)\n",
    "x = keras.layers.Conv2D(32, 3, padding='same', activation='relu')(x)\n",
    "#x = keras.layers.Conv2D(4, 3, padding='same', activation='relu')(x)\n",
    "\n",
    "#Subpixel_layer = keras.layers.Lambda(lambda x:tf.nn.depth_to_space(x,2))\n",
    "#x = Subpixel_layer(inputs=x)\n",
    "\n",
    "x = keras.layers.UpSampling2D()(x)\n",
    "x = keras.layers.Dropout(0.2)(x)\n",
    "\n",
    "x = keras.layers.Conv2D(32, 3, padding='same', activation='relu')(x)\n",
    "#x = keras.layers.Conv2D(32, 3, padding='same', activation='relu')(x)\n",
    "\n",
    "generator_outputs = keras.layers.Conv2D(1, 3, activation=\"sigmoid\", padding=\"same\")(x)\n",
    "generator = keras.Model(generator_inputs, generator_outputs, name='generator')\n",
    "\n",
    "generator.summary()"
   ]
  },
  {
   "cell_type": "code",
   "execution_count": null,
   "id": "ef206a94-787e-4edb-99f6-3221ee2cc4b8",
   "metadata": {},
   "outputs": [],
   "source": [
    "discriminator_inp_1 = keras.Input(shape=(input_res, input_res, 1))\n",
    "discriminator_inp_2 = keras.Input(shape=(output_res, output_res, 1))\n",
    "\n",
    "#discriminator_inputs = keras.layers.Concatenate(axis=-1)([\n",
    "#    discriminator_inp_1,\n",
    "#    discriminator_inp_2\n",
    "#])\n",
    "\n",
    "x = keras.layers.Conv2D(16, 3, padding='same', activation='relu', strides=(1, 1))(discriminator_inp_2)\n",
    "x = keras.layers.Dropout(0.2)(x)\n",
    "x = keras.layers.Conv2D(16, 3, padding='same', activation='relu', strides=(2, 2))(x)\n",
    "x = keras.layers.Concatenate(axis=-1)([\n",
    "    discriminator_inp_1,\n",
    "    x\n",
    "])\n",
    "x = keras.layers.Conv2D(16, 3, padding='valid', activation='relu', strides=(2, 2))(x)\n",
    "x = keras.layers.Dropout(0.2)(x)\n",
    "x = keras.layers.Conv2D(32, 3, padding='valid', activation='relu', strides=(2, 2))(x)\n",
    "x = keras.layers.Dropout(0.2)(x)\n",
    "x = keras.layers.Conv2D(32, 3, padding='valid', activation='relu', strides=(2, 2))(x)\n",
    "#x = keras.layers.Conv2D(16, 3, padding='valid', activation='relu', strides=(2, 2))(x)\n",
    "\n",
    "x = keras.layers.Flatten()(x)\n",
    "x = keras.layers.Dense(8)(x)\n",
    "x = keras.layers.Dropout(0.2)(x)\n",
    "discriminator_outputs = keras.layers.Dense(1, activation='sigmoid')(x)\n",
    "\n",
    "discriminator = keras.Model(\n",
    "    [\n",
    "        discriminator_inp_1,\n",
    "        discriminator_inp_2\n",
    "    ],\n",
    "    discriminator_outputs,\n",
    "    name='discriminator'\n",
    ")\n",
    "\n",
    "discriminator.summary()"
   ]
  },
  {
   "cell_type": "code",
   "execution_count": null,
   "id": "fc98c5ad-689c-42f7-b7d0-98ef6a294796",
   "metadata": {},
   "outputs": [],
   "source": [
    "gen_input = keras.Input(shape=(input_res, input_res, 1))\n",
    "real_img = keras.Input(shape=(input_res, input_res, 1))\n",
    "\n",
    "gen_output = generator(gen_input)\n",
    "disc_output = discriminator([real_img, gen_output])\n",
    "\n",
    "full_model = keras.Model(\n",
    "    inputs=[\n",
    "        gen_input,\n",
    "        real_img,\n",
    "    ],\n",
    "    #outputs=disc_output\n",
    "    outputs=[\n",
    "        disc_output,\n",
    "        gen_output\n",
    "    ],\n",
    "    #generator_inputs,\n",
    "    #discriminator([generator_outputs, generator_outputs])\n",
    "    name='full_model'\n",
    ")\n",
    "\n",
    "full_model.summary()"
   ]
  },
  {
   "cell_type": "markdown",
   "id": "138a85bd-5506-4028-a3ee-cb1f9efc6c5f",
   "metadata": {},
   "source": [
    "# Data"
   ]
  },
  {
   "cell_type": "code",
   "execution_count": null,
   "id": "4d1e2674-daf1-408f-a44a-e660a7580d37",
   "metadata": {},
   "outputs": [],
   "source": [
    "images = []\n",
    "\n",
    "for file_name in os.listdir('cppoutput'):\n",
    "    if 'image' not in file_name:\n",
    "        continue\n",
    "    full_name = 'cppoutput/' + file_name\n",
    "    img = imageio.imread(full_name) / 255.0\n",
    "    #print(full_name, img.shape)\n",
    "    \n",
    "    images.append(img)\n",
    "\n",
    "random.shuffle(images)\n",
    "\n",
    "len(images)"
   ]
  },
  {
   "cell_type": "code",
   "execution_count": null,
   "id": "7ff45ed9-0cc4-4b81-9e92-9e80559419c6",
   "metadata": {},
   "outputs": [],
   "source": [
    "plt.imshow(images[123])"
   ]
  },
  {
   "cell_type": "code",
   "execution_count": null,
   "id": "469f4416-a8be-445a-9703-57c84fee8b8f",
   "metadata": {},
   "outputs": [],
   "source": [
    "all_y = []\n",
    "all_x = []\n",
    "\n",
    "for img in images:\n",
    "    for i in range(int(img.shape[0] / output_res)):\n",
    "        for j in range(int(img.shape[0] / output_res)):\n",
    "            sub_img = img[\n",
    "                i*output_res:(i+1)*output_res,\n",
    "                j*output_res:(j+1)*output_res\n",
    "            ]\n",
    "            sm_sub_img = cv2.resize(\n",
    "                sub_img,\n",
    "                dsize=(input_res, input_res),\n",
    "                interpolation=cv2.INTER_NEAREST\n",
    "            )\n",
    "            # Ignore empty or almost empty images\n",
    "            if np.unique(sub_img.flatten()).shape[0] < 20:\n",
    "                continue\n",
    "            all_y.append(sub_img)\n",
    "            all_x.append(sm_sub_img)\n",
    "\n",
    "all_y = np.expand_dims(np.array(all_y), [3])\n",
    "all_x = np.expand_dims(np.array(all_x), [3])\n",
    "\n",
    "# ((102400, 64, 64, 1), (102400, 32, 32, 1))\n",
    "# ((64923, 64, 64, 1), (64923, 32, 32, 1))\n",
    "all_y.shape, all_x.shape"
   ]
  },
  {
   "cell_type": "code",
   "execution_count": null,
   "id": "9a29d054-f9ae-4da8-99b6-1a4d593f8475",
   "metadata": {},
   "outputs": [],
   "source": [
    "all_y[random.randint(0, len(all_y))].shape"
   ]
  },
  {
   "cell_type": "code",
   "execution_count": null,
   "id": "27df261d-9f33-4e1a-8b23-c68a330662f5",
   "metadata": {},
   "outputs": [],
   "source": [
    "def plot_grid(imgs, shuffle=True):\n",
    "    fig = plt.figure(figsize=(10, 10))\n",
    "    columns = 6\n",
    "    rows = 6\n",
    "    for i in range(1, columns*rows +1):\n",
    "        fig.add_subplot(rows, columns, i)\n",
    "        if shuffle:\n",
    "            plt.imshow(imgs[random.randint(0, len(imgs) - 1)])\n",
    "        else:\n",
    "            plt.imshow(imgs[i])\n",
    "    plt.show()\n",
    "\n",
    "plot_grid(all_x, shuffle=False)"
   ]
  },
  {
   "cell_type": "code",
   "execution_count": null,
   "id": "4463ad69-907f-4936-8da8-41d51f11ae6f",
   "metadata": {},
   "outputs": [],
   "source": [
    "plot_grid(all_y, shuffle=False)"
   ]
  },
  {
   "cell_type": "code",
   "execution_count": null,
   "id": "7ad37501-6d54-40c6-b6fb-1b9b1680d9e8",
   "metadata": {},
   "outputs": [],
   "source": [
    "train_y = all_y[:int(len(all_y)*0.9)]\n",
    "train_x = all_x[:int(len(all_x)*0.9)]\n",
    "test_y = all_y[int(len(all_y)*0.9):]\n",
    "test_x = all_x[int(len(all_x)*0.9):]\n",
    "\n",
    "train_y.shape, train_x.shape, test_y.shape, test_x.shape"
   ]
  },
  {
   "cell_type": "code",
   "execution_count": null,
   "id": "26d8ebc7-e578-4255-9428-70d97673eb91",
   "metadata": {},
   "outputs": [],
   "source": []
  },
  {
   "cell_type": "markdown",
   "id": "5970fc18-c07a-4bcd-aba5-9e72d6f4c16e",
   "metadata": {},
   "source": [
    "# Training"
   ]
  },
  {
   "cell_type": "code",
   "execution_count": null,
   "id": "860baca4-ab55-42df-8b8c-e22a097e52f6",
   "metadata": {},
   "outputs": [],
   "source": [
    "generator.compile(\n",
    "    optimizer=\"adam\",\n",
    "    loss=\"mse\",\n",
    "    #metrics=[keras.metrics.Accuracy()]\n",
    ")\n"
   ]
  },
  {
   "cell_type": "code",
   "execution_count": null,
   "id": "f26e3a40-d2f2-4350-849a-bfb77df96fc3",
   "metadata": {},
   "outputs": [],
   "source": [
    "#history = generator.fit(\n",
    "#    train_x[0:4216],\n",
    "#    train_y[0:4216],\n",
    "#    batch_size=32,\n",
    "#    #validation_data=(test_x, test_y),\n",
    "#    epochs=5,\n",
    "#)"
   ]
  },
  {
   "cell_type": "code",
   "execution_count": null,
   "id": "24d6ae3d-8f2c-41e4-8bfc-97ece8a2fa83",
   "metadata": {},
   "outputs": [],
   "source": [
    "pred_input = test_x[0:500]\n",
    "#corr_output = test_y[100:110]\n",
    "predicted = generator.predict(pred_input)"
   ]
  },
  {
   "cell_type": "code",
   "execution_count": null,
   "id": "54e6b183-3119-4816-9a65-cb4576bd0cb2",
   "metadata": {},
   "outputs": [],
   "source": [
    "plot_grid(predicted, shuffle=False)"
   ]
  },
  {
   "cell_type": "code",
   "execution_count": null,
   "id": "1120702a-45b1-47eb-b288-b71758367405",
   "metadata": {},
   "outputs": [],
   "source": [
    "plot_grid(predicted, shuffle=False)"
   ]
  },
  {
   "cell_type": "code",
   "execution_count": null,
   "id": "f4e414f4-8c80-4272-b097-32e7be0fe323",
   "metadata": {},
   "outputs": [],
   "source": [
    "#predicted_y = model.predict(train_x[0:4216])"
   ]
  },
  {
   "cell_type": "code",
   "execution_count": null,
   "id": "5d2f20e7-dd01-432c-91c3-8a8f5f27991b",
   "metadata": {},
   "outputs": [],
   "source": [
    "#expected_y = train_y[0:4216]"
   ]
  },
  {
   "cell_type": "code",
   "execution_count": null,
   "id": "a75b5fd9-82bb-49f8-8f04-4a7b933b6042",
   "metadata": {},
   "outputs": [],
   "source": [
    "#predicted_y.shape, expected_y.shape"
   ]
  },
  {
   "cell_type": "code",
   "execution_count": null,
   "id": "98d7579e-8de4-4fe3-b900-9f6440af1626",
   "metadata": {},
   "outputs": [],
   "source": [
    "#discriminator_x = np.concatenate([predicted_y, expected_y], 0)\n",
    "#discriminator_x.shape"
   ]
  },
  {
   "cell_type": "code",
   "execution_count": null,
   "id": "76fffe68-2ed5-4241-a205-d0a6c62a46b7",
   "metadata": {},
   "outputs": [],
   "source": [
    "#discriminator_y = np.concatenate([np.zeros(4216), np.ones(4216)], 0).reshape(4216 * 2, 1)\n",
    "#discriminator_y.shape"
   ]
  },
  {
   "cell_type": "code",
   "execution_count": null,
   "id": "a10d2f21-fb6e-46a6-a724-c8ea534b071f",
   "metadata": {},
   "outputs": [],
   "source": []
  },
  {
   "cell_type": "code",
   "execution_count": null,
   "id": "2a7e2c20-d48d-4a33-8f1f-ea4a6c3c0d74",
   "metadata": {},
   "outputs": [],
   "source": [
    "#full_model.compile()\n"
   ]
  },
  {
   "cell_type": "code",
   "execution_count": null,
   "id": "e144dd20-7acd-4473-945b-c3ea8c9e21ad",
   "metadata": {},
   "outputs": [],
   "source": [
    "\n"
   ]
  },
  {
   "cell_type": "code",
   "execution_count": null,
   "id": "3ceb3801-9b9f-4418-9f9e-57ac0630ce7c",
   "metadata": {},
   "outputs": [],
   "source": [
    "#history = full_model.fit(\n",
    "#    full_x,\n",
    "#    full_y,\n",
    "#    batch_size=32,\n",
    "#    #validation_data=(test_x, test_y),\n",
    "#    epochs=10,\n",
    "#    shuffle=True,\n",
    "#)"
   ]
  },
  {
   "cell_type": "markdown",
   "id": "1b8083b9-1cf9-43ee-8382-8912e2003617",
   "metadata": {},
   "source": [
    "# The whole repetitive training"
   ]
  },
  {
   "cell_type": "code",
   "execution_count": null,
   "id": "0cc4f10e-9252-4a8c-a127-b5216d609958",
   "metadata": {},
   "outputs": [],
   "source": [
    "pred_input = [i for i in test_x[0:2000]]\n",
    "random.shuffle(pred_input)\n",
    "pred_input = np.array(pred_input)"
   ]
  },
  {
   "cell_type": "code",
   "execution_count": null,
   "id": "323c32da-11fc-4a03-bb09-aaffefe11aca",
   "metadata": {},
   "outputs": [],
   "source": [
    "plot_grid(pred_input)"
   ]
  },
  {
   "cell_type": "code",
   "execution_count": null,
   "id": "f271a176-cb49-4aef-bb9f-f41a83a97ac3",
   "metadata": {},
   "outputs": [],
   "source": [
    "# generator.predict(np.array(pred_input)).shape"
   ]
  },
  {
   "cell_type": "code",
   "execution_count": null,
   "id": "e6e28431-3e20-4b01-ac11-2eadef9cd8d6",
   "metadata": {},
   "outputs": [],
   "source": []
  },
  {
   "cell_type": "code",
   "execution_count": null,
   "id": "c3b54e1f-ee93-458c-b70e-05e128b9a416",
   "metadata": {},
   "outputs": [],
   "source": [
    "predicted_y = generator.predict(train_x[0:2000])\n"
   ]
  },
  {
   "cell_type": "code",
   "execution_count": null,
   "id": "0d2e82f9-0382-4ce2-86b6-edf3300b9e2e",
   "metadata": {},
   "outputs": [],
   "source": [
    "\n",
    "discriminator_x_1 = np.concatenate([\n",
    "    train_x[0:2000],\n",
    "    train_x[0:2000],\n",
    "], axis=0)\n",
    "discriminator_x_2 = np.concatenate([\n",
    "    generator.predict(train_x[0:2000]),\n",
    "    train_y[0:2000],\n",
    "], axis=0)\n",
    "\n",
    "discriminator_x_1.shape, discriminator_x_2.shape\n"
   ]
  },
  {
   "cell_type": "code",
   "execution_count": null,
   "id": "a554f273-ef21-414f-8dc6-d2053cb65481",
   "metadata": {},
   "outputs": [],
   "source": [
    "all_disc_input_x = np.array([]).reshape(0, output_res, output_res, 1)\n",
    "\n",
    "# Prepopulate this thing, so we can train the discriminator with somethign...\n",
    "#predicted_y = generator.predict(train_x[0:1000])\n",
    "#all_disc_input_x = np.concatenate([all_disc_input_x, predicted_y], 0)\n",
    "\n",
    "\n",
    "def save_prev_images(n):\n",
    "    predicted = generator.predict(pred_input)\n",
    "    for i in range(5):\n",
    "        img = predicted[i]\n",
    "        imageio.imwrite(\n",
    "            f'predictions/real_output_{str(i).rjust(3, \"0\")}_{str(n).rjust(5, \"0\")}.png',\n",
    "            (\n",
    "                img * 255\n",
    "            ).astype('uint8')\n",
    "        )\n",
    "\n",
    "total_n = 100\n",
    "train_size = 10000\n",
    "val_size = 200\n",
    "\n",
    "\n",
    "discriminator.compile(\n",
    "    optimizer=\"adam\",\n",
    "    #loss=\"binary_crossentropy\",\n",
    "    loss='mse',\n",
    "    #metrics=[keras.metrics.BinaryAccuracy(), keras.metrics.Accuracy()]\n",
    "    metrics=['mean_absolute_percentage_error']\n",
    ")\n",
    "\n",
    "full_model.compile(\n",
    "    optimizer=keras.optimizers.adam_v2.Adam(learning_rate=0.00002),\n",
    "    #optimizer='adam',\n",
    "    #loss=\"binary_crossentropy\",\n",
    "    loss=['mse', 'mae'],\n",
    "    #loss_weights=[1, 100],\n",
    "    #loss_weights=[1, 10],\n",
    "    loss_weights=[10, 1],\n",
    "    #loss_weights=[100, 1],\n",
    "    #metrics=[keras.metrics.BinaryAccuracy(), keras.metrics.Accuracy()]\n",
    "    metrics=['mean_absolute_percentage_error']\n",
    ")\n",
    "\n",
    "for n in range(0, total_n):\n",
    "    print('Startping epoch', n)\n",
    "    # Save a preview image\n",
    "    save_prev_images(n)\n",
    "\n",
    "    # Set discriminator trainable\n",
    "    #for l in full_model.layers[-1].layers:\n",
    "    #    l.trainable = True\n",
    "    discriminator.trainable = True\n",
    "\n",
    "    # Train discriminator\n",
    "    #predicted_y = generator.predict(train_x[0:2000])\n",
    "    #if len(all_disc_input_x) >= 10000:\n",
    "    #    tmp = [i for i in all_disc_input_x]\n",
    "    #    random.shuffle(tmp)\n",
    "    #    tmp = tmp[0:9000]\n",
    "    #    all_disc_input_x = np.array(tmp)\n",
    "    #all_disc_input_x = np.concatenate([all_disc_input_x, predicted_y], 0)\n",
    "    #all_disc_input_x = predicted_y\n",
    "    \n",
    "    #disc_train_input_false = np.concatenate([predicted_y, train_y[0:2000]], axis=3)\n",
    "    #disc_train_input_true = np.concatenate([predicted_y, train_y[0:2000]], axis=3)\n",
    "    \n",
    "    #discriminator_x = np.concatenate([all_disc_input_x, expected_y], 0)\n",
    "    \n",
    "    \n",
    "    #print('moo')\n",
    "    #thing = [a for a in all_disc_input_x]\n",
    "    #random.shuffle(thing)\n",
    "    #all_disc_input_x = np.array(thing[0:10000])\n",
    "    \n",
    "    print('Training discriminator')\n",
    "    #false_len = all_disc_input_x.shape[0]\n",
    "    #expected_y = train_y[0:false_len]\n",
    "    #discriminator_x = np.concatenate([all_disc_input_x, expected_y], 0)\n",
    "    #discriminator_y = np.concatenate([np.zeros(false_len), np.ones(false_len)], 0).reshape(false_len * 2, 1)\n",
    "    \n",
    "    discriminator_x_1 = np.concatenate([\n",
    "        train_x[0:train_size],\n",
    "        train_x[0:train_size],\n",
    "    ], axis=0)\n",
    "    discriminator_x_2 = np.concatenate([\n",
    "        generator.predict(train_x[0:train_size]),\n",
    "        train_y[0:train_size],\n",
    "    ], axis=0)\n",
    "    discriminator_y = np.concatenate(\n",
    "        [np.zeros(train_size), np.ones(train_size)],\n",
    "        0\n",
    "    ).reshape(train_size * 2, 1)\n",
    "    \n",
    "    test_discriminator_x_1 = np.concatenate([\n",
    "        test_x[0:val_size],\n",
    "        test_x[0:val_size],\n",
    "    ], axis=0)\n",
    "    test_discriminator_x_2 = np.concatenate([\n",
    "        generator.predict(test_x[0:val_size]),\n",
    "        test_y[0:val_size],\n",
    "    ], axis=0)\n",
    "    test_discriminator_y = np.concatenate(\n",
    "        [np.zeros(val_size), np.ones(val_size)],\n",
    "        0\n",
    "    ).reshape(val_size * 2, 1)\n",
    "    \n",
    "    history = discriminator.fit(\n",
    "        [discriminator_x_1, discriminator_x_2],\n",
    "        discriminator_y,\n",
    "        validation_data=[\n",
    "            [test_discriminator_x_1, test_discriminator_x_2],\n",
    "            test_discriminator_y,\n",
    "        ],\n",
    "        batch_size=32,\n",
    "        #validation_data=(test_x, test_y),\n",
    "        epochs=2, #3 if n > 0 else 20,\n",
    "        shuffle=True,\n",
    "    )\n",
    "\n",
    "    # Set discriminator NOT trainable\n",
    "    #for l in full_model.layers[-1].layers:\n",
    "    #    l.trainable = False\n",
    "    discriminator.trainable = False\n",
    "    \n",
    "    # Train the full model with discriminator attached\n",
    "    print('Training the full model')\n",
    "    full_x = train_x[0:train_size]\n",
    "    full_y = np.ones((train_size, 1))\n",
    "    \n",
    "    test_full_x = test_x[0:val_size]\n",
    "    test_full_y = np.ones((val_size, 1))\n",
    "    \n",
    "    history = full_model.fit(\n",
    "        [full_x, full_x],\n",
    "        [full_y, train_y[0:train_size]],\n",
    "        validation_data=[\n",
    "            [test_full_x, test_full_x],\n",
    "            [test_full_y, test_y[0:val_size]],\n",
    "        ],\n",
    "        batch_size=16,\n",
    "        #validation_data=(test_x, test_y),\n",
    "        epochs=2,\n",
    "        shuffle=True,\n",
    "    )\n",
    "    \n",
    "    print('Full training epoch done')\n",
    "\n",
    "\n",
    "save_prev_images(total_n)\n"
   ]
  },
  {
   "cell_type": "code",
   "execution_count": null,
   "id": "25d3be07-2d1d-4764-9eb6-bf2ea687caa9",
   "metadata": {},
   "outputs": [],
   "source": [
    "# plot_grid((pred_input), shuffle=False)"
   ]
  },
  {
   "cell_type": "code",
   "execution_count": null,
   "id": "bf326c28-5744-4821-aa39-aac2a9d3ac3c",
   "metadata": {},
   "outputs": [],
   "source": [
    "plot_grid((test_x), shuffle=False)"
   ]
  },
  {
   "cell_type": "code",
   "execution_count": null,
   "id": "465ccfa0-7748-4746-adab-83bb9a3f75ec",
   "metadata": {},
   "outputs": [],
   "source": [
    "plot_grid(generator.predict(test_x), shuffle=False)"
   ]
  },
  {
   "cell_type": "code",
   "execution_count": null,
   "id": "1fca8c6a-ee28-4e55-a285-135ec719ae0f",
   "metadata": {},
   "outputs": [],
   "source": [
    "plot_grid(test_y, shuffle=False)"
   ]
  },
  {
   "cell_type": "code",
   "execution_count": null,
   "id": "0c822be1-010d-49cf-9dac-969a79e171bb",
   "metadata": {},
   "outputs": [],
   "source": []
  }
 ],
 "metadata": {
  "kernelspec": {
   "display_name": "Python 3 (ipykernel)",
   "language": "python",
   "name": "python3"
  },
  "language_info": {
   "codemirror_mode": {
    "name": "ipython",
    "version": 3
   },
   "file_extension": ".py",
   "mimetype": "text/x-python",
   "name": "python",
   "nbconvert_exporter": "python",
   "pygments_lexer": "ipython3",
   "version": "3.9.7"
  }
 },
 "nbformat": 4,
 "nbformat_minor": 5
}
